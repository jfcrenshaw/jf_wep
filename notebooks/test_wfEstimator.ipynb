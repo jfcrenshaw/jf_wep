{
 "cells": [
  {
   "cell_type": "code",
   "execution_count": null,
   "metadata": {},
   "outputs": [],
   "source": [
    "import numpy as np\n",
    "import matplotlib.pyplot as plt\n",
    "\n",
    "# To create mock images\n",
    "from jf_wep.donutStamp import DonutStamp\n",
    "from jf_wep.imageMapper import ImageMapper\n",
    "from scipy.ndimage import gaussian_filter\n",
    "\n",
    "# To estimate Zernikes\n",
    "from jf_wep.wfEstimator import WfEstimator"
   ]
  },
  {
   "cell_type": "markdown",
   "metadata": {},
   "source": [
    "### Create some mock data\n",
    "\n",
    "Generate some random Zernikes"
   ]
  },
  {
   "cell_type": "code",
   "execution_count": null,
   "metadata": {},
   "outputs": [],
   "source": [
    "# Set some random Zernikes\n",
    "rng = np.random.default_rng(1243)\n",
    "zkTrue = rng.normal(0, 5e-6 / np.arange(1, 26) ** 2, size=25)\n",
    "\n",
    "fig, ax = plt.subplots()\n",
    "ax.plot(np.arange(4, 29), zkTrue)\n",
    "ax.set(\n",
    "    xlabel=\"Zernike Noll index\",\n",
    "    ylabel=\"Amplitude (meters)\",\n",
    "    title=\"True Zernikes\",\n",
    ")\n",
    "plt.show()\n"
   ]
  },
  {
   "cell_type": "markdown",
   "metadata": {},
   "source": [
    "Forward model a pair of donuts"
   ]
  },
  {
   "cell_type": "code",
   "execution_count": null,
   "metadata": {},
   "outputs": [],
   "source": [
    "# Create the ImageMapper to forward model images\n",
    "mapper = ImageMapper()\n",
    "\n",
    "intraStamp = mapper.mapPupilToImage(\n",
    "    DonutStamp(\n",
    "        np.zeros((180, 180)),\n",
    "        (0, -1),\n",
    "        \"intra\",\n",
    "        \"r\",\n",
    "    ),\n",
    "    zkTrue,\n",
    ")\n",
    "intraStamp.image *= 120\n",
    "intraStamp.image += rng.normal(scale=np.sqrt(intraStamp.image))\n",
    "intraStamp.image = gaussian_filter(intraStamp.image, 5)\n",
    "intraStamp.image += rng.normal(scale=10, size=intraStamp.image.shape)\n",
    "\n",
    "extraStamp = mapper.mapPupilToImage(\n",
    "    DonutStamp(\n",
    "        np.zeros((180, 180)),\n",
    "        (0, -1),\n",
    "        \"extra\",\n",
    "        \"r\",\n",
    "    ),\n",
    "    zkTrue,\n",
    ")\n",
    "extraStamp.image *= 60\n",
    "extraStamp.image += rng.normal(scale=np.sqrt(extraStamp.image))\n",
    "extraStamp.image = gaussian_filter(extraStamp.image, 5)\n",
    "extraStamp.image += rng.normal(scale=15, size=extraStamp.image.shape)\n",
    "\n",
    "\n",
    "fig, (ax1, ax2) = plt.subplots(1, 2, figsize=(5, 2), dpi=180)\n",
    "\n",
    "ax1.imshow(intraStamp.image, origin=\"lower\")\n",
    "ax1.set(title=\"Intra\")\n",
    "\n",
    "ax2.imshow(extraStamp.image, origin=\"lower\")\n",
    "ax2.set(title=\"Extra\")\n",
    "\n",
    "plt.show()\n"
   ]
  },
  {
   "cell_type": "markdown",
   "metadata": {},
   "source": [
    "### Estimate Zernikes with TIE (exp solver)"
   ]
  },
  {
   "cell_type": "code",
   "execution_count": null,
   "metadata": {},
   "outputs": [],
   "source": [
    "zkTieExp = WfEstimator(instConfig=mapper.instrument).estimateWf(\n",
    "    intraStamp, extraStamp\n",
    ")"
   ]
  },
  {
   "cell_type": "code",
   "execution_count": null,
   "metadata": {},
   "outputs": [],
   "source": [
    "fig, ax = plt.subplots()\n",
    "\n",
    "ax.plot(4 + np.arange(len(zkTrue)), zkTrue, label=\"True\")\n",
    "ax.plot(4 + np.arange(len(zkTieExp)), zkTieExp, label=\"TIE (exp)\", ls=\"--\")\n",
    "ax.legend()\n",
    "\n",
    "ax.set(xlabel=\"Zernike Noll index\", ylabel=\"Amplitude (meters)\")\n",
    "plt.show()"
   ]
  },
  {
   "cell_type": "code",
   "execution_count": null,
   "metadata": {},
   "outputs": [],
   "source": []
  }
 ],
 "metadata": {
  "kernelspec": {
   "display_name": "jf_wep",
   "language": "python",
   "name": "python3"
  },
  "language_info": {
   "codemirror_mode": {
    "name": "ipython",
    "version": 3
   },
   "file_extension": ".py",
   "mimetype": "text/x-python",
   "name": "python",
   "nbconvert_exporter": "python",
   "pygments_lexer": "ipython3",
   "version": "3.9.16"
  },
  "orig_nbformat": 4
 },
 "nbformat": 4,
 "nbformat_minor": 2
}
