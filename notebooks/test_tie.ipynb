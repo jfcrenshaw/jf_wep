{
 "cells": [
  {
   "cell_type": "code",
   "execution_count": null,
   "metadata": {},
   "outputs": [],
   "source": [
    "import numpy as np\n",
    "import matplotlib.pyplot as plt\n",
    "from jf_wep.donutStamp import DonutStamp\n",
    "from jf_wep.imageMapper import ImageMapper\n",
    "from jf_wep.wfAlgorithms.tie import TIEAlgorithm"
   ]
  },
  {
   "cell_type": "code",
   "execution_count": null,
   "metadata": {},
   "outputs": [],
   "source": [
    "# Choose some true Zernikes\n",
    "zkTrue = np.zeros(19)\n",
    "zkTrue[0] = -1.1e-6\n",
    "zkTrue[1] = -0.5e-6\n",
    "zkTrue[2] = 0.4e-6\n",
    "zkTrue[3] = -1e-6\n",
    "zkTrue[4] = -0.2e-6\n",
    "\n",
    "# Forward model a pair of donuts\n",
    "mapper = ImageMapper()\n",
    "\n",
    "intraImg = mapper.mapPupilToImage(\n",
    "    DonutStamp(\n",
    "        np.zeros((180, 180)),\n",
    "        (0, -1),\n",
    "        \"intra\",\n",
    "        \"r\",\n",
    "    ),\n",
    "    zkTrue,\n",
    ")\n",
    "intraImg.image *= 100\n",
    "\n",
    "extraImg = mapper.mapPupilToImage(\n",
    "    DonutStamp(\n",
    "        np.zeros((180, 180)),\n",
    "        (0, -1),\n",
    "        \"extra\",\n",
    "        \"r\",\n",
    "    ),\n",
    "    zkTrue,\n",
    ")\n",
    "extraImg.image *= 100\n",
    "\n",
    "fig, (ax1, ax2) = plt.subplots(1, 2, figsize=(5, 2), dpi=180)\n",
    "\n",
    "ax1.imshow(intraImg.image, origin=\"lower\")\n",
    "ax1.set(title=\"Intra\")\n",
    "\n",
    "ax2.imshow(extraImg.image, origin=\"lower\")\n",
    "ax2.set(title=\"Extra\")\n",
    "\n",
    "plt.show()"
   ]
  },
  {
   "cell_type": "code",
   "execution_count": null,
   "metadata": {},
   "outputs": [],
   "source": [
    "# Use the TIE to estimate Zernikes\n",
    "algo = TIEAlgorithm(saveHistory=True, maxIter=30)\n",
    "zkEst = algo.estimateWf(intraImg, extraImg, instrument=mapper.instrument)"
   ]
  },
  {
   "cell_type": "code",
   "execution_count": null,
   "metadata": {},
   "outputs": [],
   "source": [
    "fig, ax = plt.subplots()\n",
    "\n",
    "ax.plot(4 + np.arange(len(zkEst)), 1e9 * zkEst, label=\"Estimated\", c=\"C1\")\n",
    "ax.plot(\n",
    "    4 + np.arange(len(zkTrue)), 1e9 * zkTrue, label=\"Truth\", c=\"k\", ls=\"--\"\n",
    ")\n",
    "ax.legend()\n",
    "\n",
    "ax.set(xlabel=\"Zernike Noll index\", ylabel=\"Amplitude (nm)\")\n",
    "plt.show()\n"
   ]
  },
  {
   "cell_type": "code",
   "execution_count": null,
   "metadata": {},
   "outputs": [],
   "source": [
    "# Plot images from the final iteration of the TIE solver\n",
    "fig, (ax1, ax2, ax3) = plt.subplots(\n",
    "    1, 3, figsize=(5, 2.2), dpi=180, constrained_layout=True\n",
    ")\n",
    "\n",
    "finalIter = max(algo.history.keys())\n",
    "\n",
    "ax1.imshow(algo.history[finalIter][\"intraComp\"], origin=\"lower\")\n",
    "ax1.set(title=\"intraComp\")\n",
    "\n",
    "ax2.imshow(algo.history[finalIter][\"extraComp\"], origin=\"lower\")\n",
    "ax2.set(title=\"extraComp\")\n",
    "\n",
    "ax3.imshow(algo.history[finalIter][\"dIdz\"], origin=\"lower\")\n",
    "ax3.set(title=\"dIdz\")\n",
    "\n",
    "fig.suptitle(\"Images from final iteration of TIE solver\")\n",
    "\n",
    "plt.show()"
   ]
  },
  {
   "cell_type": "code",
   "execution_count": null,
   "metadata": {},
   "outputs": [],
   "source": []
  }
 ],
 "metadata": {
  "kernelspec": {
   "display_name": "jf_wep",
   "language": "python",
   "name": "python3"
  },
  "language_info": {
   "codemirror_mode": {
    "name": "ipython",
    "version": 3
   },
   "file_extension": ".py",
   "mimetype": "text/x-python",
   "name": "python",
   "nbconvert_exporter": "python",
   "pygments_lexer": "ipython3",
   "version": "3.9.16"
  },
  "orig_nbformat": 4
 },
 "nbformat": 4,
 "nbformat_minor": 2
}
