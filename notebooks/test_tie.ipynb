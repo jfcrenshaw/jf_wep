{
 "cells": [
  {
   "cell_type": "code",
   "execution_count": null,
   "metadata": {},
   "outputs": [],
   "source": [
    "import numpy as np\n",
    "import matplotlib.pyplot as plt\n",
    "from jf_wep.donutStamp import DonutStamp\n",
    "from jf_wep.imageMapper import ImageMapper\n",
    "from jf_wep.wfAlgorithms.tie import TIEAlgorithm\n",
    "from scipy.ndimage import gaussian_filter"
   ]
  },
  {
   "cell_type": "code",
   "execution_count": null,
   "metadata": {},
   "outputs": [],
   "source": [
    "# Set some random Zernikes\n",
    "rng = np.random.default_rng(1243)\n",
    "zk = rng.normal(0, 5e-6 / np.arange(1, 26) ** 2, size=25)\n",
    "\n",
    "fig, ax = plt.subplots()\n",
    "ax.plot(np.arange(4, 29), zk)\n",
    "ax.set(xlabel=\"Zernike Noll index\", ylabel=\"Amplitude (meters)\")\n",
    "plt.show()"
   ]
  },
  {
   "cell_type": "code",
   "execution_count": null,
   "metadata": {},
   "outputs": [],
   "source": [
    "# Forward model a pair of donuts\n",
    "mapper = ImageMapper()\n",
    "\n",
    "pupil = mapper.instrument.createPupilMask(180).astype(float)\n",
    "uPupil, vPupil = mapper.instrument.createPupilGrid(pupil.shape[0])\n",
    "rPupil = np.sqrt(uPupil**2 + vPupil**2)\n",
    "\n",
    "intraImg = mapper.pupilToImage(\n",
    "    DonutStamp(\n",
    "        100 * pupil,\n",
    "        (0, 0),\n",
    "        \"intra\",\n",
    "        \"r\",\n",
    "    ),\n",
    "    zk,\n",
    ")\n",
    "intraImg.image = gaussian_filter(intraImg.image, 5) + rng.normal(\n",
    "    scale=10, size=intraImg.image.shape\n",
    ")\n",
    "\n",
    "extraImg = mapper.pupilToImage(\n",
    "    DonutStamp(\n",
    "        100 * pupil,\n",
    "        (0, 0),\n",
    "        \"extra\",\n",
    "        \"r\",\n",
    "    ),\n",
    "    zk,\n",
    ")\n",
    "extraImg.image = gaussian_filter(extraImg.image, 5) + rng.normal(\n",
    "    scale=15, size=extraImg.image.shape\n",
    ")\n",
    "\n",
    "fig, (ax1, ax2) = plt.subplots(1, 2, figsize=(5, 2), dpi=180)\n",
    "\n",
    "ax1.imshow(intraImg.image, origin=\"lower\")\n",
    "ax1.set(title=\"Intra\")\n",
    "\n",
    "ax2.imshow(extraImg.image, origin=\"lower\")\n",
    "ax2.set(title=\"Extra\")\n",
    "\n",
    "plt.show()"
   ]
  },
  {
   "cell_type": "code",
   "execution_count": null,
   "metadata": {},
   "outputs": [],
   "source": [
    "# Use the TIE to estimate Zernikes\n",
    "algo = TIEAlgorithm(saveHistory=True)\n",
    "zkEst = algo.estimateWf(intraImg, extraImg, instrument=mapper.instrument)"
   ]
  },
  {
   "cell_type": "code",
   "execution_count": null,
   "metadata": {},
   "outputs": [],
   "source": [
    "fig, ax = plt.subplots()\n",
    "\n",
    "ax.plot(4 + np.arange(len(zk)), zk, label=\"True\")\n",
    "ax.plot(4 + np.arange(len(zkEst)), zkEst, label=\"Estimated\", ls=\"--\")\n",
    "ax.legend()\n",
    "\n",
    "ax.set(xlabel=\"Zernike Noll index\", ylabel=\"Amplitude (meters)\")\n",
    "plt.show()\n"
   ]
  },
  {
   "cell_type": "code",
   "execution_count": null,
   "metadata": {},
   "outputs": [],
   "source": [
    "# Plot images from the final iteration of the TIE solver\n",
    "fig, (ax1, ax2, ax3) = plt.subplots(\n",
    "    1, 3, figsize=(5, 2.2), dpi=180, constrained_layout=True\n",
    ")\n",
    "\n",
    "finalIter = max(algo.history.keys())\n",
    "\n",
    "ax1.imshow(algo.history[finalIter][\"intraComp\"], origin=\"lower\")\n",
    "ax1.set(title=\"intraComp\")\n",
    "\n",
    "ax2.imshow(algo.history[finalIter][\"extraComp\"], origin=\"lower\")\n",
    "ax2.set(title=\"extraComp\")\n",
    "\n",
    "ax3.imshow(algo.history[finalIter][\"dIdz\"], origin=\"lower\")\n",
    "ax3.set(title=\"dIdz\")\n",
    "\n",
    "fig.suptitle(\"Images from final iteration of TIE solver\")\n",
    "\n",
    "plt.show()"
   ]
  },
  {
   "cell_type": "markdown",
   "metadata": {},
   "source": [
    "We know we did well because `dIdz` mostly looks like noise."
   ]
  },
  {
   "cell_type": "code",
   "execution_count": null,
   "metadata": {},
   "outputs": [],
   "source": []
  }
 ],
 "metadata": {
  "kernelspec": {
   "display_name": "jf_wep",
   "language": "python",
   "name": "python3"
  },
  "language_info": {
   "codemirror_mode": {
    "name": "ipython",
    "version": 3
   },
   "file_extension": ".py",
   "mimetype": "text/x-python",
   "name": "python",
   "nbconvert_exporter": "python",
   "pygments_lexer": "ipython3",
   "version": "3.9.16"
  },
  "orig_nbformat": 4
 },
 "nbformat": 4,
 "nbformat_minor": 2
}
