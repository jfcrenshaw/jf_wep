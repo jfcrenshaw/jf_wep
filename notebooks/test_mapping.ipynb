{
 "cells": [
  {
   "cell_type": "code",
   "execution_count": null,
   "metadata": {},
   "outputs": [],
   "source": [
    "import numpy as np\n",
    "import matplotlib.pyplot as plt\n",
    "from jf_wep.donutStamp import DonutStamp\n",
    "from jf_wep.imageMapper import ImageMapper\n"
   ]
  },
  {
   "cell_type": "code",
   "execution_count": null,
   "metadata": {},
   "outputs": [],
   "source": [
    "mapper = ImageMapper()"
   ]
  },
  {
   "cell_type": "code",
   "execution_count": null,
   "metadata": {},
   "outputs": [],
   "source": [
    "# Set the Zernikes (in meters)\n",
    "zk = np.zeros(19)\n",
    "zk[0] = -1.1e-6\n",
    "zk[1] = -0.5e-6\n",
    "zk[2] = 0.4e-6\n",
    "zk[3] = -1e-6\n",
    "zk[4] = -0.2e-6\n"
   ]
  },
  {
   "cell_type": "code",
   "execution_count": null,
   "metadata": {},
   "outputs": [],
   "source": [
    "def roundtrip(fieldAngle, defocalType, zk, nPixels=160):\n",
    "    # Create a stamp of the marked pupil mask\n",
    "    pupil = DonutStamp(\n",
    "        mapper.instrument.createMarkedPupilMask(nPixels),\n",
    "        fieldAngle,\n",
    "        defocalType,\n",
    "        \"r\",\n",
    "    )\n",
    "\n",
    "    # Map the pupil to the image plane\n",
    "    image = mapper.pupilToImage(pupil, zk)\n",
    "\n",
    "    # Then map back to the pupil\n",
    "    pupilRecon = mapper.imageToPupil(image, zk)\n",
    "\n",
    "    # Plot everything!\n",
    "    fig, axes = plt.subplots(1, 4, figsize=(10, 2), dpi=150)\n",
    "\n",
    "    settings = {\"origin\": \"lower\", \"vmin\": 0, \"vmax\": 1}\n",
    "\n",
    "    axes[0].imshow(pupil.image, **settings)\n",
    "    axes[0].set(title=\"Original\")\n",
    "\n",
    "    axes[1].imshow(image.image, **settings)\n",
    "    axes[1].set(title=\"Mapped to image\")\n",
    "\n",
    "    axes[2].imshow(pupilRecon.image, **settings)\n",
    "    axes[2].set(title=\"Back to pupil\")\n",
    "\n",
    "    axes[3].imshow(np.abs(pupilRecon.image - pupil.image), **settings)\n",
    "    axes[3].set(title=\"Abs Pupil difference\")"
   ]
  },
  {
   "cell_type": "markdown",
   "metadata": {},
   "source": [
    "Center of field"
   ]
  },
  {
   "cell_type": "code",
   "execution_count": null,
   "metadata": {},
   "outputs": [],
   "source": [
    "roundtrip((0, 0), \"intra\", zk)"
   ]
  },
  {
   "cell_type": "code",
   "execution_count": null,
   "metadata": {},
   "outputs": [],
   "source": [
    "roundtrip((0, 0), \"extra\", zk)"
   ]
  },
  {
   "cell_type": "markdown",
   "metadata": {},
   "source": [
    "Corner of field"
   ]
  },
  {
   "cell_type": "code",
   "execution_count": null,
   "metadata": {},
   "outputs": [],
   "source": [
    "roundtrip((1, 1), \"intra\", zk)"
   ]
  },
  {
   "cell_type": "code",
   "execution_count": null,
   "metadata": {},
   "outputs": [],
   "source": [
    "roundtrip((1, 1), \"extra\", zk)"
   ]
  },
  {
   "cell_type": "code",
   "execution_count": null,
   "metadata": {},
   "outputs": [],
   "source": []
  }
 ],
 "metadata": {
  "kernelspec": {
   "display_name": "jf_wep",
   "language": "python",
   "name": "python3"
  },
  "language_info": {
   "codemirror_mode": {
    "name": "ipython",
    "version": 3
   },
   "file_extension": ".py",
   "mimetype": "text/x-python",
   "name": "python",
   "nbconvert_exporter": "python",
   "pygments_lexer": "ipython3",
   "version": "3.9.16"
  },
  "orig_nbformat": 4
 },
 "nbformat": 4,
 "nbformat_minor": 2
}
