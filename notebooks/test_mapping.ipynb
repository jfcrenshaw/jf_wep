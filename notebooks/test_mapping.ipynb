{
 "cells": [
  {
   "cell_type": "code",
   "execution_count": null,
   "metadata": {},
   "outputs": [],
   "source": [
    "import numpy as np\n",
    "import matplotlib.pyplot as plt\n",
    "from jf_wep.donutStamp import DonutStamp\n",
    "from jf_wep.imageMapper import ImageMapper"
   ]
  },
  {
   "cell_type": "code",
   "execution_count": null,
   "metadata": {},
   "outputs": [],
   "source": [
    "def roundtrip(\n",
    "    fieldAngle,\n",
    "    defocalType,\n",
    "    band,\n",
    "    opticalModel,\n",
    "    zk=np.zeros(19),\n",
    "    nPixels=180,\n",
    "):\n",
    "    # Create the image mapper\n",
    "    mapper = ImageMapper(opticalModel=opticalModel)\n",
    "\n",
    "    # Forward model an image\n",
    "    image = DonutStamp(\n",
    "        np.zeros((nPixels, nPixels)),\n",
    "        fieldAngle,\n",
    "        defocalType,\n",
    "        band,\n",
    "    )\n",
    "    image = mapper.mapPupilToImage(image, zk)\n",
    "\n",
    "    # Then map back to the pupil\n",
    "    pupilRecon = mapper.mapImageToPupil(image, zk)\n",
    "\n",
    "    # Create the pupil mask\n",
    "    pupil = mapper.createPupilMask(image)\n",
    "\n",
    "    # Plot everything!\n",
    "    fig, axes = plt.subplots(1, 4, figsize=(10, 2), dpi=150)\n",
    "\n",
    "    settings = {\"origin\": \"lower\", \"vmin\": 0, \"vmax\": 1}\n",
    "\n",
    "    axes[0].imshow(pupil, **settings)\n",
    "    axes[0].set(title=\"Original\")\n",
    "\n",
    "    axes[1].imshow(image.image, **settings)\n",
    "    axes[1].set(title=\"Mapped to image\")\n",
    "\n",
    "    axes[2].imshow(pupilRecon.image, **settings)\n",
    "    axes[2].set(title=\"Back to pupil\")\n",
    "\n",
    "    axes[3].imshow(np.abs(pupilRecon.image - pupil), **settings)\n",
    "    axes[3].set(title=\"Abs Pupil difference\")\n"
   ]
  },
  {
   "cell_type": "markdown",
   "metadata": {},
   "source": [
    "### Center of field, `r` band, onAxis model"
   ]
  },
  {
   "cell_type": "code",
   "execution_count": null,
   "metadata": {},
   "outputs": [],
   "source": [
    "roundtrip((0, 0), \"intra\", \"r\", opticalModel=\"onAxis\")"
   ]
  },
  {
   "cell_type": "code",
   "execution_count": null,
   "metadata": {},
   "outputs": [],
   "source": [
    "roundtrip((0, 0), \"extra\", \"r\", opticalModel=\"onAxis\")"
   ]
  },
  {
   "cell_type": "markdown",
   "metadata": {},
   "source": [
    "### Center of field, `r` band, offAxis model"
   ]
  },
  {
   "cell_type": "code",
   "execution_count": null,
   "metadata": {},
   "outputs": [],
   "source": [
    "roundtrip((0, 0), \"intra\", \"r\", opticalModel=\"offAxis\")"
   ]
  },
  {
   "cell_type": "code",
   "execution_count": null,
   "metadata": {},
   "outputs": [],
   "source": [
    "roundtrip((0, 0), \"extra\", \"r\", opticalModel=\"onAxis\")"
   ]
  },
  {
   "cell_type": "markdown",
   "metadata": {},
   "source": [
    "### Corner of field, `r` band, onAxis model\n",
    "\n",
    "Note, you shouldn't use the onAxis model this far from the center of the focal plane.\n",
    "You can notice the difference with the offAxis model below."
   ]
  },
  {
   "cell_type": "code",
   "execution_count": null,
   "metadata": {},
   "outputs": [],
   "source": [
    "roundtrip((1.2, 1.2), \"intra\", \"r\", opticalModel=\"onAxis\")"
   ]
  },
  {
   "cell_type": "code",
   "execution_count": null,
   "metadata": {},
   "outputs": [],
   "source": [
    "roundtrip((1, 1), \"extra\", \"r\", opticalModel=\"onAxis\")"
   ]
  },
  {
   "cell_type": "markdown",
   "metadata": {},
   "source": [
    "### Corner of field, `r` band, offAxis model\n"
   ]
  },
  {
   "cell_type": "code",
   "execution_count": null,
   "metadata": {},
   "outputs": [],
   "source": [
    "roundtrip((1.2, 1.2), \"intra\", \"r\", opticalModel=\"offAxis\")"
   ]
  },
  {
   "cell_type": "code",
   "execution_count": null,
   "metadata": {},
   "outputs": [],
   "source": [
    "roundtrip((1.2, 1.2), \"extra\", \"r\", opticalModel=\"offAxis\")"
   ]
  },
  {
   "cell_type": "code",
   "execution_count": null,
   "metadata": {},
   "outputs": [],
   "source": []
  }
 ],
 "metadata": {
  "kernelspec": {
   "display_name": "jf_wep",
   "language": "python",
   "name": "python3"
  },
  "language_info": {
   "codemirror_mode": {
    "name": "ipython",
    "version": 3
   },
   "file_extension": ".py",
   "mimetype": "text/x-python",
   "name": "python",
   "nbconvert_exporter": "python",
   "pygments_lexer": "ipython3",
   "version": "3.9.16"
  },
  "orig_nbformat": 4
 },
 "nbformat": 4,
 "nbformat_minor": 2
}
