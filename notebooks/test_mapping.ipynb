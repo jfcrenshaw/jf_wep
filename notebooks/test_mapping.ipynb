{
 "cells": [
  {
   "cell_type": "code",
   "execution_count": null,
   "metadata": {},
   "outputs": [],
   "source": [
    "import numpy as np\n",
    "import matplotlib.pyplot as plt\n",
    "from jf_wep.utils import ImageMapper, DefocalType\n"
   ]
  },
  {
   "cell_type": "code",
   "execution_count": null,
   "metadata": {},
   "outputs": [],
   "source": [
    "mapper = ImageMapper(opticalModel=\"offAxis\")"
   ]
  },
  {
   "cell_type": "code",
   "execution_count": null,
   "metadata": {},
   "outputs": [],
   "source": [
    "# Set the Zernikes (in meters)\n",
    "zk = np.zeros(19)\n",
    "zk[0] = -3.4e-6\n",
    "zk[1] = -0.5e-6\n",
    "zk[2] = 0.4e-6\n",
    "zk[3] = -1e-6\n",
    "zk[4] = -0.2e-6"
   ]
  },
  {
   "cell_type": "code",
   "execution_count": null,
   "metadata": {},
   "outputs": [],
   "source": [
    "def roundtrip(defocalType, zk, nPixels=160):\n",
    "    # Create the pupil\n",
    "    uPupil, vPupil = mapper.instrument.createPupilGrid(nPixels)\n",
    "    rPupil = np.sqrt(uPupil**2 + vPupil**2)\n",
    "    pupil = (rPupil >= 0.61) & (rPupil <= 1)\n",
    "\n",
    "    # Add some markers on the pupil to distinguish axes\n",
    "    pupil = pupil & (np.sqrt((uPupil - 0.8) ** 2 + vPupil**2) > 0.1)\n",
    "    pupil = pupil & (np.abs(uPupil) + np.abs(vPupil - 0.8) > 0.1)\n",
    "\n",
    "    # Map the pupil to the image plane\n",
    "    image = mapper.pupilToImage(pupil, defocalType, zk)\n",
    "\n",
    "    # Then map back to the pupil\n",
    "    pupilRecon = mapper.imageToPupil(image, defocalType, zk)\n",
    "\n",
    "    # Plot everything!\n",
    "    fig, axes = plt.subplots(1, 3, figsize=(7, 2), dpi=150)\n",
    "\n",
    "    axes[0].imshow(pupil, origin=\"lower\")\n",
    "    axes[0].set(title=\"Original\")\n",
    "\n",
    "    axes[1].imshow(image, origin=\"lower\")\n",
    "    axes[1].set(title=\"Mapped to image\")\n",
    "\n",
    "    axes[2].imshow(pupilRecon, origin=\"lower\")\n",
    "    axes[2].set(title=\"Back to pupil\")\n"
   ]
  },
  {
   "cell_type": "code",
   "execution_count": null,
   "metadata": {},
   "outputs": [],
   "source": [
    "roundtrip(DefocalType.Intra, zk)"
   ]
  },
  {
   "cell_type": "code",
   "execution_count": null,
   "metadata": {},
   "outputs": [],
   "source": [
    "roundtrip(DefocalType.Extra, zk)"
   ]
  },
  {
   "cell_type": "code",
   "execution_count": null,
   "metadata": {},
   "outputs": [],
   "source": []
  }
 ],
 "metadata": {
  "kernelspec": {
   "display_name": "jf_wep",
   "language": "python",
   "name": "python3"
  },
  "language_info": {
   "codemirror_mode": {
    "name": "ipython",
    "version": 3
   },
   "file_extension": ".py",
   "mimetype": "text/x-python",
   "name": "python",
   "nbconvert_exporter": "python",
   "pygments_lexer": "ipython3",
   "version": "3.9.16"
  },
  "orig_nbformat": 4
 },
 "nbformat": 4,
 "nbformat_minor": 2
}
